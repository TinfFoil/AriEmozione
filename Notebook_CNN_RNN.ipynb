{
 "cells": [
  {
   "cell_type": "code",
   "execution_count": 1,
   "metadata": {},
   "outputs": [
    {
     "name": "stderr",
     "output_type": "stream",
     "text": [
      "Using TensorFlow backend.\n"
     ]
    },
    {
     "name": "stdout",
     "output_type": "stream",
     "text": [
      "Cleaning...\n",
      "Calculating TFIDF...\n",
      "Calculating SVD...\n",
      "Calculating LDiA...\n"
     ]
    }
   ],
   "source": [
    "from Tokenize_Vectorize import *\n",
    "from keras.models import Sequential\n",
    "from keras.layers import Dense, Conv1D, GlobalMaxPooling1D\n",
    "from keras.layers import Dropout\n",
    "from keras.layers import Activation\n",
    "from gensim.models import KeyedVectors\n",
    "import matplotlib.pyplot as plt\n",
    "\n",
    "word_vectors = KeyedVectors.load_word2vec_format('cc.it.300.vec')"
   ]
  },
  {
   "cell_type": "code",
   "execution_count": 2,
   "metadata": {},
   "outputs": [],
   "source": [
    "def vectorize(tokens):\n",
    "    vectorized_data = []\n",
    "    sample_vecs = []\n",
    "    for sample in tokens:\n",
    "        for token in sample:\n",
    "            try:\n",
    "                sample_vecs.append(word_vectors[token])\n",
    "            except KeyError:\n",
    "                pass # No matching token in the fasttext vocab\n",
    "        vectorized_data.append(sample_vecs)\n",
    "\n",
    "    return vectorized_data\n"
   ]
  },
  {
   "cell_type": "code",
   "execution_count": 3,
   "metadata": {},
   "outputs": [],
   "source": [
    "def pad_trunc(data, maxlen):\n",
    "    \n",
    "    new_data = []\n",
    "    # Create a vector of 0s the length of our word vectors\n",
    "    zero_vector = []\n",
    "    for _ in range(len(data[0][0])):\n",
    "        zero_vector.append(0.0)\n",
    "    for sample in data:\n",
    "        if len(sample) > maxlen:\n",
    "            temp = sample[:maxlen]\n",
    "        elif len(sample) < maxlen:\n",
    "            temp = sample\n",
    "            # Append the appropriate number 0 vectors to the list\n",
    "            additional_elems = maxlen - len(sample)\n",
    "            for _ in range(additional_elems):\n",
    "                temp.append(zero_vector)\n",
    "        else:\n",
    "            temp = sample\n",
    "        new_data.append(temp)\n",
    "    return new_data"
   ]
  },
  {
   "cell_type": "code",
   "execution_count": 4,
   "metadata": {},
   "outputs": [],
   "source": [
    "\n",
    "x_train = vectorize(tokenized)\n",
    "y_train = dummy_y\n",
    "x_test = vectorize(tokenized_dev)\n",
    "y_test = dummy_dev"
   ]
  },
  {
   "cell_type": "code",
   "execution_count": 55,
   "metadata": {},
   "outputs": [
    {
     "data": {
      "text/plain": [
       "array([ 0.0606, -0.0176,  0.0957, -0.0315, -0.0288, -0.059 ,  0.052 ,\n",
       "        0.0059, -0.1145,  0.0741, -0.0065, -0.0155,  0.0218,  0.0152,\n",
       "        0.0383,  0.0045, -0.0127,  0.1433,  0.0484, -0.0326,  0.022 ,\n",
       "       -0.0346, -0.0122, -0.0189, -0.0069,  0.0844, -0.064 ,  0.0299,\n",
       "        0.0332, -0.0406,  0.0857, -0.1177,  0.0034, -0.0337, -0.0548,\n",
       "        0.0268,  0.0368, -0.0227, -0.0343,  0.0584, -0.0228, -0.0358,\n",
       "       -0.0231,  0.039 ,  0.0063,  0.1312, -0.0449, -0.0143,  0.0042,\n",
       "        0.1289,  0.0598,  0.0108,  0.0249,  0.0308,  0.0724, -0.0297,\n",
       "       -0.0224,  0.0369, -0.0834, -0.0042,  0.0099, -0.1038, -0.1418,\n",
       "       -0.0095, -0.0199,  0.0309, -0.0142,  0.0304,  0.0129, -0.0562,\n",
       "       -0.016 , -0.0455,  0.008 , -0.056 , -0.0142, -0.0683,  0.0698,\n",
       "       -0.0388,  0.0123, -0.0283,  0.0162,  0.045 , -0.0877,  0.1062,\n",
       "       -0.0154,  0.1369, -0.0416, -0.0101, -0.0129,  0.0028, -0.0289,\n",
       "        0.0043, -0.0905,  0.046 , -0.1417, -0.0523, -0.0448, -0.054 ,\n",
       "       -0.0447, -0.0068, -0.1034, -0.0095, -0.0022,  0.0758, -0.0124,\n",
       "       -0.031 ,  0.0175, -0.0948,  0.0343, -0.0552, -0.0106,  0.0508,\n",
       "        0.0183, -0.046 ,  0.0162,  0.0066, -0.0382, -0.0123,  0.0264,\n",
       "       -0.0653,  0.0818,  0.0347, -0.0456,  0.0177,  0.0532,  0.0926,\n",
       "       -0.1599,  0.0473,  0.005 ,  0.2837, -0.0158,  0.0848,  0.0376,\n",
       "       -0.0136,  0.0138,  0.0292,  0.0737, -0.0145,  0.0073, -0.0517,\n",
       "       -0.1342, -0.0521, -0.0313, -0.0141,  0.0325, -0.0721, -0.0029,\n",
       "       -0.092 , -0.0241,  0.0243, -0.0398, -0.0242, -0.0364, -0.0658,\n",
       "        0.3222,  0.0149,  0.1152, -0.194 , -0.0126, -0.0207, -0.0971,\n",
       "        0.0097, -0.0092, -0.0228, -0.0348, -0.0342,  0.0512,  0.0275,\n",
       "       -0.0191, -0.0137, -0.0349, -0.0066,  0.0227,  0.0358,  0.0355,\n",
       "       -0.0616, -0.0028, -0.0247,  0.004 , -0.0117, -0.038 ,  0.0241,\n",
       "        0.0332,  0.0131, -0.0168, -0.0294,  0.0215, -0.0218,  0.0133,\n",
       "       -0.0071,  0.0325,  0.0061, -0.039 ,  0.1744,  0.0828,  0.0498,\n",
       "        0.1197,  0.0341, -0.0113,  0.0111, -0.0129, -0.0286,  0.0083,\n",
       "        0.0057, -0.021 ,  0.009 ,  0.0855, -0.0214,  0.0321, -0.1178,\n",
       "        0.047 ,  0.0359, -0.017 , -0.06  ,  0.0184, -0.0102,  0.0466,\n",
       "        0.0167,  0.0859,  0.0522,  0.018 ,  0.0829, -0.0731, -0.0116,\n",
       "        0.0112, -0.0284,  0.0644,  0.1088,  0.0336, -0.0024, -0.0134,\n",
       "       -0.0395,  0.0261, -0.03  , -0.0495,  0.0253, -0.0226, -0.0325,\n",
       "        0.0532, -0.026 , -0.0142,  0.0408, -0.0358, -0.023 ,  0.0734,\n",
       "       -0.0082,  0.0436,  0.0906, -0.0009, -0.0143,  0.0347, -0.0224,\n",
       "        0.1128,  0.0009,  0.0124,  0.0122,  0.0214, -0.0252,  0.0633,\n",
       "       -0.0259, -0.0461,  0.0456, -0.1874, -0.051 , -0.1726,  0.0665,\n",
       "       -0.0004, -0.0372, -0.0073, -0.0024, -0.1604, -0.0196, -0.1254,\n",
       "       -0.0825,  0.1217, -0.1451,  0.0188,  0.0952, -0.0432,  0.0622,\n",
       "       -0.2087, -0.0177, -0.0223, -0.006 , -0.0075,  0.004 , -0.1344,\n",
       "       -0.0101, -0.0563,  0.0473, -0.0178,  0.0037,  0.0072, -0.0092,\n",
       "       -0.1454,  0.0171,  0.0458, -0.0844,  0.0256, -0.0097],\n",
       "      dtype=float32)"
      ]
     },
     "execution_count": 55,
     "metadata": {},
     "output_type": "execute_result"
    }
   ],
   "source": [
    "x_train[0][0]"
   ]
  },
  {
   "cell_type": "code",
   "execution_count": 87,
   "metadata": {},
   "outputs": [],
   "source": [
    "from sklearn.model_selection import KFold\n",
    "from sklearn.metrics import classification_report, confusion_matrix\n",
    "from keras.layers import MaxPooling1D\n",
    "max_len = 18        # maximum length of the text (why?)\n",
    "batch_size = 8       # number of samples before backpropagating\n",
    "embedding_dims = 300  # Same as Google's\n",
    "filters = 5         # (!)\n",
    "kernel_size = 3       # remember: filter=kernel (we have a scalar this time)\n",
    "hidden_dims = 16     # number of neurons in the final layer\n",
    "epochs = 2            # number of training epochs"
   ]
  },
  {
   "cell_type": "code",
   "execution_count": 74,
   "metadata": {},
   "outputs": [],
   "source": [
    "x_train = pad_trunc(x_train, max_len)\n",
    "x_test = pad_trunc(x_test, max_len)\n",
    "x_train = np.reshape(x_train, (len(x_train), max_len, embedding_dims))\n",
    "y_train = np.array(y_train)\n",
    "x_test = np.reshape(x_test, (len(x_test), max_len, embedding_dims))\n",
    "y_test = np.array(y_test)"
   ]
  },
  {
   "cell_type": "code",
   "execution_count": 88,
   "metadata": {},
   "outputs": [
    {
     "name": "stdout",
     "output_type": "stream",
     "text": [
      "------------------------------------------------------------------------\n",
      "Training for fold 1 ...\n",
      "Score for fold 1: loss of 1.7900481479897348; accuracy of 21.004566550254822%\n",
      "------------------------------------------------------------------------\n",
      "Training for fold 2 ...\n"
     ]
    },
    {
     "name": "stderr",
     "output_type": "stream",
     "text": [
      "c:\\users\\daimon\\appdata\\local\\programs\\python\\python37\\lib\\site-packages\\sklearn\\metrics\\_classification.py:1272: UndefinedMetricWarning: Precision and F-score are ill-defined and being set to 0.0 in labels with no predicted samples. Use `zero_division` parameter to control this behavior.\n",
      "  _warn_prf(average, modifier, msg_start, len(result))\n"
     ]
    },
    {
     "name": "stdout",
     "output_type": "stream",
     "text": [
      "Score for fold 2: loss of 1.7875595497428824; accuracy of 19.7247713804245%\n",
      "------------------------------------------------------------------------\n",
      "Training for fold 3 ...\n"
     ]
    },
    {
     "name": "stderr",
     "output_type": "stream",
     "text": [
      "c:\\users\\daimon\\appdata\\local\\programs\\python\\python37\\lib\\site-packages\\sklearn\\metrics\\_classification.py:1272: UndefinedMetricWarning: Precision and F-score are ill-defined and being set to 0.0 in labels with no predicted samples. Use `zero_division` parameter to control this behavior.\n",
      "  _warn_prf(average, modifier, msg_start, len(result))\n"
     ]
    },
    {
     "name": "stdout",
     "output_type": "stream",
     "text": [
      "Score for fold 3: loss of 1.787899940385731; accuracy of 19.7247713804245%\n",
      "------------------------------------------------------------------------\n",
      "Training for fold 4 ...\n"
     ]
    },
    {
     "name": "stderr",
     "output_type": "stream",
     "text": [
      "c:\\users\\daimon\\appdata\\local\\programs\\python\\python37\\lib\\site-packages\\sklearn\\metrics\\_classification.py:1272: UndefinedMetricWarning: Precision and F-score are ill-defined and being set to 0.0 in labels with no predicted samples. Use `zero_division` parameter to control this behavior.\n",
      "  _warn_prf(average, modifier, msg_start, len(result))\n"
     ]
    },
    {
     "name": "stdout",
     "output_type": "stream",
     "text": [
      "Score for fold 4: loss of 1.8081316816697426; accuracy of 12.844036519527435%\n",
      "------------------------------------------------------------------------\n",
      "Training for fold 5 ...\n"
     ]
    },
    {
     "name": "stderr",
     "output_type": "stream",
     "text": [
      "c:\\users\\daimon\\appdata\\local\\programs\\python\\python37\\lib\\site-packages\\sklearn\\metrics\\_classification.py:1272: UndefinedMetricWarning: Precision and F-score are ill-defined and being set to 0.0 in labels with no predicted samples. Use `zero_division` parameter to control this behavior.\n",
      "  _warn_prf(average, modifier, msg_start, len(result))\n"
     ]
    },
    {
     "name": "stdout",
     "output_type": "stream",
     "text": [
      "Score for fold 5: loss of 1.7893533422312606; accuracy of 14.678898453712463%\n",
      "------------------------------------------------------------------------\n",
      "Training for fold 6 ...\n"
     ]
    },
    {
     "name": "stderr",
     "output_type": "stream",
     "text": [
      "c:\\users\\daimon\\appdata\\local\\programs\\python\\python37\\lib\\site-packages\\sklearn\\metrics\\_classification.py:1272: UndefinedMetricWarning: Precision and F-score are ill-defined and being set to 0.0 in labels with no predicted samples. Use `zero_division` parameter to control this behavior.\n",
      "  _warn_prf(average, modifier, msg_start, len(result))\n"
     ]
    },
    {
     "name": "stdout",
     "output_type": "stream",
     "text": [
      "Score for fold 6: loss of 1.7904555272618565; accuracy of 13.302752375602722%\n",
      "------------------------------------------------------------------------\n",
      "Training for fold 7 ...\n"
     ]
    },
    {
     "name": "stderr",
     "output_type": "stream",
     "text": [
      "c:\\users\\daimon\\appdata\\local\\programs\\python\\python37\\lib\\site-packages\\sklearn\\metrics\\_classification.py:1272: UndefinedMetricWarning: Precision and F-score are ill-defined and being set to 0.0 in labels with no predicted samples. Use `zero_division` parameter to control this behavior.\n",
      "  _warn_prf(average, modifier, msg_start, len(result))\n"
     ]
    },
    {
     "name": "stdout",
     "output_type": "stream",
     "text": [
      "Score for fold 7: loss of 1.7858719924174318; accuracy of 14.220184087753296%\n",
      "------------------------------------------------------------------------\n",
      "Training for fold 8 ...\n"
     ]
    },
    {
     "name": "stderr",
     "output_type": "stream",
     "text": [
      "c:\\users\\daimon\\appdata\\local\\programs\\python\\python37\\lib\\site-packages\\sklearn\\metrics\\_classification.py:1272: UndefinedMetricWarning: Precision and F-score are ill-defined and being set to 0.0 in labels with no predicted samples. Use `zero_division` parameter to control this behavior.\n",
      "  _warn_prf(average, modifier, msg_start, len(result))\n"
     ]
    },
    {
     "name": "stdout",
     "output_type": "stream",
     "text": [
      "Score for fold 8: loss of 1.7895041682304593; accuracy of 18.807339668273926%\n",
      "------------------------------------------------------------------------\n",
      "Training for fold 9 ...\n"
     ]
    },
    {
     "name": "stderr",
     "output_type": "stream",
     "text": [
      "c:\\users\\daimon\\appdata\\local\\programs\\python\\python37\\lib\\site-packages\\sklearn\\metrics\\_classification.py:1272: UndefinedMetricWarning: Precision and F-score are ill-defined and being set to 0.0 in labels with no predicted samples. Use `zero_division` parameter to control this behavior.\n",
      "  _warn_prf(average, modifier, msg_start, len(result))\n"
     ]
    },
    {
     "name": "stdout",
     "output_type": "stream",
     "text": [
      "Score for fold 9: loss of 1.7823806071500166; accuracy of 13.761468231678009%\n",
      "------------------------------------------------------------------------\n",
      "Training for fold 10 ...\n"
     ]
    },
    {
     "name": "stderr",
     "output_type": "stream",
     "text": [
      "c:\\users\\daimon\\appdata\\local\\programs\\python\\python37\\lib\\site-packages\\sklearn\\metrics\\_classification.py:1272: UndefinedMetricWarning: Precision and F-score are ill-defined and being set to 0.0 in labels with no predicted samples. Use `zero_division` parameter to control this behavior.\n",
      "  _warn_prf(average, modifier, msg_start, len(result))\n"
     ]
    },
    {
     "name": "stdout",
     "output_type": "stream",
     "text": [
      "Score for fold 10: loss of 1.7657108350631294; accuracy of 33.48623812198639%\n",
      "------------------------------------------------------------------------\n",
      "Score per fold\n",
      "------------------------------------------------------------------------\n",
      "> Fold 1 - Loss: 1.7900481479897348 - Accuracy: 21.004566550254822%\n",
      "------------------------------------------------------------------------\n",
      "> Per Class Report:\n",
      "{'0': {'precision': 0.0, 'recall': 0.0, 'f1-score': 0.0, 'support': 33}, '1': {'precision': 0.0, 'recall': 0.0, 'f1-score': 0.0, 'support': 37}, '2': {'precision': 0.0, 'recall': 0.0, 'f1-score': 0.0, 'support': 28}, '3': {'precision': 0.0, 'recall': 0.0, 'f1-score': 0.0, 'support': 19}, '4': {'precision': 0.2100456621004566, 'recall': 1.0, 'f1-score': 0.3471698113207547, 'support': 46}, '5': {'precision': 0.0, 'recall': 0.0, 'f1-score': 0.0, 'support': 56}, 'accuracy': 0.2100456621004566, 'macro avg': {'precision': 0.0350076103500761, 'recall': 0.16666666666666666, 'f1-score': 0.05786163522012578, 'support': 219}, 'weighted avg': {'precision': 0.0441191801672192, 'recall': 0.2100456621004566, 'f1-score': 0.07292151288015852, 'support': 219}}\n",
      "------------------------------------------------------------------------\n",
      "> Fold 2 - Loss: 1.7875595497428824 - Accuracy: 19.7247713804245%\n",
      "------------------------------------------------------------------------\n",
      "> Per Class Report:\n",
      "{'0': {'precision': 0.0, 'recall': 0.0, 'f1-score': 0.0, 'support': 26}, '1': {'precision': 0.0, 'recall': 0.0, 'f1-score': 0.0, 'support': 27}, '2': {'precision': 0.0, 'recall': 0.0, 'f1-score': 0.0, 'support': 36}, '3': {'precision': 0.0, 'recall': 0.0, 'f1-score': 0.0, 'support': 17}, '4': {'precision': 0.19724770642201836, 'recall': 1.0, 'f1-score': 0.32950191570881227, 'support': 43}, '5': {'precision': 0.0, 'recall': 0.0, 'f1-score': 0.0, 'support': 69}, 'accuracy': 0.19724770642201836, 'macro avg': {'precision': 0.03287461773700306, 'recall': 0.16666666666666666, 'f1-score': 0.05491698595146871, 'support': 218}, 'weighted avg': {'precision': 0.038906657688746744, 'recall': 0.19724770642201836, 'f1-score': 0.06499349713522444, 'support': 218}}\n",
      "------------------------------------------------------------------------\n",
      "> Fold 3 - Loss: 1.787899940385731 - Accuracy: 19.7247713804245%\n",
      "------------------------------------------------------------------------\n",
      "> Per Class Report:\n",
      "{'0': {'precision': 0.0, 'recall': 0.0, 'f1-score': 0.0, 'support': 28}, '1': {'precision': 0.0, 'recall': 0.0, 'f1-score': 0.0, 'support': 41}, '2': {'precision': 0.0, 'recall': 0.0, 'f1-score': 0.0, 'support': 39}, '3': {'precision': 0.0, 'recall': 0.0, 'f1-score': 0.0, 'support': 18}, '4': {'precision': 0.19724770642201836, 'recall': 1.0, 'f1-score': 0.32950191570881227, 'support': 43}, '5': {'precision': 0.0, 'recall': 0.0, 'f1-score': 0.0, 'support': 49}, 'accuracy': 0.19724770642201836, 'macro avg': {'precision': 0.03287461773700306, 'recall': 0.16666666666666666, 'f1-score': 0.05491698595146871, 'support': 218}, 'weighted avg': {'precision': 0.038906657688746744, 'recall': 0.19724770642201836, 'f1-score': 0.06499349713522444, 'support': 218}}\n",
      "------------------------------------------------------------------------\n",
      "> Fold 4 - Loss: 1.8081316816697426 - Accuracy: 12.844036519527435%\n",
      "------------------------------------------------------------------------\n",
      "> Per Class Report:\n",
      "{'0': {'precision': 0.0, 'recall': 0.0, 'f1-score': 0.0, 'support': 42}, '1': {'precision': 0.0, 'recall': 0.0, 'f1-score': 0.0, 'support': 32}, '2': {'precision': 0.12844036697247707, 'recall': 1.0, 'f1-score': 0.22764227642276422, 'support': 28}, '3': {'precision': 0.0, 'recall': 0.0, 'f1-score': 0.0, 'support': 8}, '4': {'precision': 0.0, 'recall': 0.0, 'f1-score': 0.0, 'support': 46}, '5': {'precision': 0.0, 'recall': 0.0, 'f1-score': 0.0, 'support': 62}, 'accuracy': 0.12844036697247707, 'macro avg': {'precision': 0.02140672782874618, 'recall': 0.16666666666666666, 'f1-score': 0.037940379403794036, 'support': 218}, 'weighted avg': {'precision': 0.016496927868024577, 'recall': 0.12844036697247707, 'f1-score': 0.0292384575221899, 'support': 218}}\n",
      "------------------------------------------------------------------------\n",
      "> Fold 5 - Loss: 1.7893533422312606 - Accuracy: 14.678898453712463%\n",
      "------------------------------------------------------------------------\n",
      "> Per Class Report:\n",
      "{'0': {'precision': 0.0, 'recall': 0.0, 'f1-score': 0.0, 'support': 30}, '1': {'precision': 0.0, 'recall': 0.0, 'f1-score': 0.0, 'support': 28}, '2': {'precision': 0.14678899082568808, 'recall': 1.0, 'f1-score': 0.256, 'support': 32}, '3': {'precision': 0.0, 'recall': 0.0, 'f1-score': 0.0, 'support': 22}, '4': {'precision': 0.0, 'recall': 0.0, 'f1-score': 0.0, 'support': 53}, '5': {'precision': 0.0, 'recall': 0.0, 'f1-score': 0.0, 'support': 53}, 'accuracy': 0.14678899082568808, 'macro avg': {'precision': 0.024464831804281346, 'recall': 0.16666666666666666, 'f1-score': 0.042666666666666665, 'support': 218}, 'weighted avg': {'precision': 0.021547007827623938, 'recall': 0.14678899082568808, 'f1-score': 0.03757798165137615, 'support': 218}}\n",
      "------------------------------------------------------------------------\n",
      "> Fold 6 - Loss: 1.7904555272618565 - Accuracy: 13.302752375602722%\n",
      "------------------------------------------------------------------------\n",
      "> Per Class Report:\n",
      "{'0': {'precision': 0.0, 'recall': 0.0, 'f1-score': 0.0, 'support': 39}, '1': {'precision': 0.0, 'recall': 0.0, 'f1-score': 0.0, 'support': 30}, '2': {'precision': 0.13302752293577982, 'recall': 1.0, 'f1-score': 0.2348178137651822, 'support': 29}, '3': {'precision': 0.0, 'recall': 0.0, 'f1-score': 0.0, 'support': 22}, '4': {'precision': 0.0, 'recall': 0.0, 'f1-score': 0.0, 'support': 48}, '5': {'precision': 0.0, 'recall': 0.0, 'f1-score': 0.0, 'support': 50}, 'accuracy': 0.13302752293577982, 'macro avg': {'precision': 0.02217125382262997, 'recall': 0.16666666666666666, 'f1-score': 0.03913630229419703, 'support': 218}, 'weighted avg': {'precision': 0.017696321858429426, 'recall': 0.13302752293577982, 'f1-score': 0.03123723210637745, 'support': 218}}\n",
      "------------------------------------------------------------------------\n",
      "> Fold 7 - Loss: 1.7858719924174318 - Accuracy: 14.220184087753296%\n",
      "------------------------------------------------------------------------\n",
      "> Per Class Report:\n",
      "{'0': {'precision': 0.0, 'recall': 0.0, 'f1-score': 0.0, 'support': 32}, '1': {'precision': 0.0, 'recall': 0.0, 'f1-score': 0.0, 'support': 31}, '2': {'precision': 0.14220183486238533, 'recall': 1.0, 'f1-score': 0.24899598393574301, 'support': 31}, '3': {'precision': 0.0, 'recall': 0.0, 'f1-score': 0.0, 'support': 18}, '4': {'precision': 0.0, 'recall': 0.0, 'f1-score': 0.0, 'support': 44}, '5': {'precision': 0.0, 'recall': 0.0, 'f1-score': 0.0, 'support': 62}, 'accuracy': 0.14220183486238533, 'macro avg': {'precision': 0.023700305810397556, 'recall': 0.16666666666666666, 'f1-score': 0.04149933065595717, 'support': 218}, 'weighted avg': {'precision': 0.020221361838229104, 'recall': 0.14220183486238533, 'f1-score': 0.03540768578902768, 'support': 218}}\n",
      "------------------------------------------------------------------------\n",
      "> Fold 8 - Loss: 1.7895041682304593 - Accuracy: 18.807339668273926%\n",
      "------------------------------------------------------------------------\n",
      "> Per Class Report:\n",
      "{'0': {'precision': 0.0, 'recall': 0.0, 'f1-score': 0.0, 'support': 34}, '1': {'precision': 0.0, 'recall': 0.0, 'f1-score': 0.0, 'support': 40}, '2': {'precision': 0.0, 'recall': 0.0, 'f1-score': 0.0, 'support': 32}, '3': {'precision': 0.0, 'recall': 0.0, 'f1-score': 0.0, 'support': 25}, '4': {'precision': 0.18807339449541285, 'recall': 1.0, 'f1-score': 0.3166023166023166, 'support': 41}, '5': {'precision': 0.0, 'recall': 0.0, 'f1-score': 0.0, 'support': 46}, 'accuracy': 0.18807339449541285, 'macro avg': {'precision': 0.03134556574923548, 'recall': 0.16666666666666666, 'f1-score': 0.05276705276705276, 'support': 218}, 'weighted avg': {'precision': 0.03537160171702719, 'recall': 0.18807339449541285, 'f1-score': 0.05954447238850908, 'support': 218}}\n",
      "------------------------------------------------------------------------\n",
      "> Fold 9 - Loss: 1.7823806071500166 - Accuracy: 13.761468231678009%\n",
      "------------------------------------------------------------------------\n",
      "> Per Class Report:\n",
      "{'0': {'precision': 0.0, 'recall': 0.0, 'f1-score': 0.0, 'support': 27}, '1': {'precision': 0.0, 'recall': 0.0, 'f1-score': 0.0, 'support': 27}, '2': {'precision': 0.10052910052910052, 'recall': 0.8260869565217391, 'f1-score': 0.1792452830188679, 'support': 23}, '3': {'precision': 0.0, 'recall': 0.0, 'f1-score': 0.0, 'support': 18}, '4': {'precision': 0.3793103448275862, 'recall': 0.18333333333333332, 'f1-score': 0.24719101123595505, 'support': 60}, '5': {'precision': 0.0, 'recall': 0.0, 'f1-score': 0.0, 'support': 63}, 'accuracy': 0.13761467889908258, 'macro avg': {'precision': 0.07997324089278111, 'recall': 0.1682367149758454, 'f1-score': 0.07107271570913716, 'support': 218}, 'weighted avg': {'precision': 0.11500362386158021, 'recall': 0.13761467889908258, 'f1-score': 0.08694542286051038, 'support': 218}}\n",
      "------------------------------------------------------------------------\n",
      "> Fold 10 - Loss: 1.7657108350631294 - Accuracy: 33.48623812198639%\n",
      "------------------------------------------------------------------------\n",
      "> Per Class Report:\n",
      "{'0': {'precision': 0.0, 'recall': 0.0, 'f1-score': 0.0, 'support': 21}, '1': {'precision': 0.0, 'recall': 0.0, 'f1-score': 0.0, 'support': 32}, '2': {'precision': 0.0, 'recall': 0.0, 'f1-score': 0.0, 'support': 27}, '3': {'precision': 0.0, 'recall': 0.0, 'f1-score': 0.0, 'support': 11}, '4': {'precision': 0.3348623853211009, 'recall': 1.0, 'f1-score': 0.5017182130584192, 'support': 73}, '5': {'precision': 0.0, 'recall': 0.0, 'f1-score': 0.0, 'support': 54}, 'accuracy': 0.3348623853211009, 'macro avg': {'precision': 0.05581039755351682, 'recall': 0.16666666666666666, 'f1-score': 0.0836197021764032, 'support': 218}, 'weighted avg': {'precision': 0.11213281710293746, 'recall': 0.3348623853211009, 'f1-score': 0.16800655758378258, 'support': 218}}\n",
      "------------------------------------------------------------------------\n",
      "Average scores for all folds:\n",
      "> Accuracy: 18.155502676963806 (+- 5.891864055534134)\n",
      "> F1-Score: 0.065 (+-0.039)\n",
      "> Loss: 1.7876915792142245\n",
      "> Confusion Matrix:\n",
      "[[0.    0.    0.59  0.    0.312 0.   ]\n",
      " [0.    0.    0.505 0.    0.387 0.   ]\n",
      " [0.    0.    0.483 0.    0.358 0.   ]\n",
      " [0.    0.    0.306 0.    0.201 0.   ]\n",
      " [0.    0.    0.851 0.    0.518 0.   ]\n",
      " [0.    0.    1.002 0.    0.594 0.   ]]\n",
      "------------------------------------------------------------------------\n"
     ]
    },
    {
     "name": "stderr",
     "output_type": "stream",
     "text": [
      "c:\\users\\daimon\\appdata\\local\\programs\\python\\python37\\lib\\site-packages\\sklearn\\metrics\\_classification.py:1272: UndefinedMetricWarning: Precision and F-score are ill-defined and being set to 0.0 in labels with no predicted samples. Use `zero_division` parameter to control this behavior.\n",
      "  _warn_prf(average, modifier, msg_start, len(result))\n"
     ]
    },
    {
     "data": {
      "text/plain": [
       "'model_structure = model.to_json()\\nwith open(f\"NN_tfidf_{i}.json\", \"w\") as json_file:\\n    json_file.write(model_structure)  # saves just the architecture\\nmodel.save_weights(f\"Weights_tfidf_{i}\")  # saves the weights\\n'"
      ]
     },
     "execution_count": 88,
     "metadata": {},
     "output_type": "execute_result"
    }
   ],
   "source": [
    "acc_per_fold = []\n",
    "loss_per_fold = []\n",
    "reports = []\n",
    "cf_matrices = []\n",
    "\n",
    "num_folds = 10\n",
    "kfold = KFold(n_splits=10)\n",
    "inputs = np.concatenate((x_train, x_test), axis=0)\n",
    "targets = np.concatenate((y_train, y_test), axis=0)\n",
    "# K-fol Cross Validation model evaluation\n",
    "fold_no = 1\n",
    "for train, test in kfold.split(inputs, targets):\n",
    "    model = Sequential() # The standard NN model\n",
    "    model.add(Conv1D(  # Adding a convolutional layer\n",
    "    filters,\n",
    "    kernel_size,\n",
    "    padding='valid',  # in this example the output is going to be lightly smaller\n",
    "    activation='relu',\n",
    "    strides=1,  # the shift\n",
    "    input_shape=(max_len, embedding_dims))\n",
    "    )\n",
    "    model.add(GlobalMaxPooling1D())\n",
    "    model.add(Dense(hidden_dims))\n",
    "    model.add(Dropout(0.2))\n",
    "    model.add(Activation('relu'))\n",
    "    model.add(Dense(6, activation=\"softmax\"))\n",
    "    model.compile(loss='categorical_crossentropy', optimizer='adam', metrics=['accuracy'])\n",
    "    print('------------------------------------------------------------------------')\n",
    "    print(f'Training for fold {fold_no} ...')\n",
    "    model.fit(inputs[train], targets[train], epochs=epochs, batch_size=batch_size, verbose=0, class_weight=class_weight)\n",
    "\n",
    "    # Generate generalization metrics\n",
    "    scores = model.evaluate(inputs[test], targets[test], verbose=0)\n",
    "    print(f'Score for fold {fold_no}: {model.metrics_names[0]} of {scores[0]}; {model.metrics_names[1]} of {scores[1] * 100}%')\n",
    "    acc_per_fold.append(scores[1] * 100)\n",
    "    loss_per_fold.append(scores[0])\n",
    "\n",
    "    Y = np.argmax(targets[test], axis=1)  # here we build the precision/recall/f1 table for each fold\n",
    "    y_pred = model.predict_classes(inputs[test])\n",
    "    reports.append(classification_report(Y, y_pred, output_dict=True))\n",
    "    cm = confusion_matrix(Y, y_pred)\n",
    "    cm = cm / cm.astype(np.float).sum(axis=1)\n",
    "    cf_matrices.append(cm.round(2))\n",
    "    # Increase fold number\n",
    "    fold_no += 1\n",
    "\n",
    "            # == Provide average scores ==\n",
    "print('------------------------------------------------------------------------')\n",
    "\n",
    "print('Score per fold')\n",
    "f1_report = []\n",
    "for n in range(0, len(acc_per_fold)):\n",
    "    print('------------------------------------------------------------------------')\n",
    "    print(f'> Fold {n + 1} - Loss: {loss_per_fold[n]} - Accuracy: {acc_per_fold[n]}%')\n",
    "    print('------------------------------------------------------------------------')\n",
    "    print(f'> Per Class Report:\\n{reports[n]}')\n",
    "    f1_report.append(reports[n]['weighted avg']['f1-score'])\n",
    "print('------------------------------------------------------------------------')\n",
    "print('Average scores for all folds:')\n",
    "print(f'> Accuracy: {np.mean(acc_per_fold)} (+- {np.std(acc_per_fold)})')\n",
    "print(f'> F1-Score: {np.mean(f1_report).round(3)} (+-{np.std(f1_report).round(3)})')\n",
    "print(f'> Loss: {np.mean(loss_per_fold)}')\n",
    "print(f'> Confusion Matrix:\\n{np.nanmean(cf_matrices, axis=0)}')\n",
    "print('------------------------------------------------------------------------')\n",
    "'''model_structure = model.to_json()\n",
    "with open(f\"NN_tfidf_{i}.json\", \"w\") as json_file:\n",
    "    json_file.write(model_structure)  # saves just the architecture\n",
    "model.save_weights(f\"Weights_tfidf_{i}\")  # saves the weights\n",
    "'''\n"
   ]
  },
  {
   "cell_type": "code",
   "execution_count": null,
   "metadata": {},
   "outputs": [],
   "source": [
    "print('Building model...')\n",
    "\n",
    "model.add(Dense(hidden_dims))\n",
    "model.add(Dropout(0.2))\n",
    "model.add(Activation('relu'))\n",
    "model.add(Dense(6, activation=\"softmax\"))\n",
    "model.compile(loss='categorical_crossentropy', optimizer='adam', metrics=['accuracy'])\n",
    "history = model.fit(x_train, y_train, batch_size=batch_size, epochs=epochs, validation_data=(x_test, y_test), verbose=1)"
   ]
  },
  {
   "cell_type": "code",
   "execution_count": 62,
   "metadata": {},
   "outputs": [
    {
     "name": "stdout",
     "output_type": "stream",
     "text": [
      "Test loss: 1.7132862912498505 / Test accuracy: 0.24696356058120728\n",
      "dict_keys(['val_loss', 'val_accuracy', 'loss', 'accuracy'])\n"
     ]
    },
    {
     "data": {
      "image/png": "[encoded data removed]",
      "text/plain": [
       "<Figure size 432x288 with 1 Axes>"
      ]
     },
     "metadata": {
      "needs_background": "light"
     },
     "output_type": "display_data"
    },
    {
     "data": {
      "image/png": "[encoded data removed]",
      "text/plain": [
       "<Figure size 432x288 with 1 Axes>"
      ]
     },
     "metadata": {
      "needs_background": "light"
     },
     "output_type": "display_data"
    }
   ],
   "source": [
    "\n",
    "score = model.evaluate(x_test, y_test, verbose=0)\n",
    "\n",
    "print(f'Test loss: {score[0]} / Test accuracy: {score[1]}')\n",
    "\n",
    "print(history.history.keys())\n",
    "\n",
    "# summarize history for accuracy\n",
    "plt.plot(history.history['accuracy'])\n",
    "plt.plot(history.history['val_accuracy'])\n",
    "plt.title('model accuracy')\n",
    "plt.ylabel('accuracy')\n",
    "plt.xlabel('epoch')\n",
    "plt.legend(['train', 'test'], loc='upper left')\n",
    "plt.show()\n",
    "\n",
    "# summarize history for loss\n",
    "plt.plot(history.history['loss'])\n",
    "plt.plot(history.history['val_loss'])\n",
    "plt.title('model loss')\n",
    "plt.ylabel('loss')\n",
    "plt.xlabel('epoch')\n",
    "plt.legend(['train', 'test'], loc='upper left')\n",
    "plt.show()\n",
    "\n"
   ]
  },
  {
   "cell_type": "code",
   "execution_count": 65,
   "metadata": {},
   "outputs": [],
   "source": [
    "from keras.layers import Flatten, SimpleRNN\n",
    "num_neurons = 50"
   ]
  },
  {
   "cell_type": "code",
   "execution_count": 66,
   "metadata": {},
   "outputs": [
    {
     "name": "stdout",
     "output_type": "stream",
     "text": [
      "Model: \"sequential_23\"\n",
      "_________________________________________________________________\n",
      "Layer (type)                 Output Shape              Param #   \n",
      "=================================================================\n",
      "simple_rnn_1 (SimpleRNN)     (None, 20, 50)            17550     \n",
      "_________________________________________________________________\n",
      "dropout_25 (Dropout)         (None, 20, 50)            0         \n",
      "_________________________________________________________________\n",
      "flatten_1 (Flatten)          (None, 1000)              0         \n",
      "_________________________________________________________________\n",
      "dense_42 (Dense)             (None, 6)                 6006      \n",
      "=================================================================\n",
      "Total params: 23,556\n",
      "Trainable params: 23,556\n",
      "Non-trainable params: 0\n",
      "_________________________________________________________________\n",
      "Train on 1934 samples, validate on 247 samples\n",
      "Epoch 1/15\n",
      "1934/1934 [==============================] - 1s 288us/step - loss: 1.7603 - accuracy: 0.2497 - val_loss: 1.7641 - val_accuracy: 0.2470\n",
      "Epoch 2/15\n",
      "1934/1934 [==============================] - 0s 143us/step - loss: 1.7514 - accuracy: 0.2575 - val_loss: 1.7760 - val_accuracy: 0.2470\n",
      "Epoch 3/15\n",
      "1934/1934 [==============================] - 0s 146us/step - loss: 1.7495 - accuracy: 0.2601 - val_loss: 1.7812 - val_accuracy: 0.2470\n",
      "Epoch 4/15\n",
      "1934/1934 [==============================] - 0s 151us/step - loss: 1.7507 - accuracy: 0.2601 - val_loss: 1.7732 - val_accuracy: 0.2470\n",
      "Epoch 5/15\n",
      "1934/1934 [==============================] - 0s 143us/step - loss: 1.7479 - accuracy: 0.2601 - val_loss: 1.7457 - val_accuracy: 0.2470\n",
      "Epoch 6/15\n",
      "1934/1934 [==============================] - 0s 143us/step - loss: 1.7479 - accuracy: 0.2601 - val_loss: 1.7414 - val_accuracy: 0.2470\n",
      "Epoch 7/15\n",
      "1934/1934 [==============================] - 0s 144us/step - loss: 1.7453 - accuracy: 0.2601 - val_loss: 1.7525 - val_accuracy: 0.2470\n",
      "Epoch 8/15\n",
      "1934/1934 [==============================] - 0s 141us/step - loss: 1.7485 - accuracy: 0.2601 - val_loss: 1.7605 - val_accuracy: 0.2470\n",
      "Epoch 9/15\n",
      "1934/1934 [==============================] - 0s 142us/step - loss: 1.7447 - accuracy: 0.2601 - val_loss: 1.7593 - val_accuracy: 0.2470\n",
      "Epoch 10/15\n",
      "1934/1934 [==============================] - 0s 143us/step - loss: 1.7455 - accuracy: 0.2601 - val_loss: 1.7831 - val_accuracy: 0.2470\n",
      "Epoch 11/15\n",
      "1934/1934 [==============================] - 0s 144us/step - loss: 1.7456 - accuracy: 0.2601 - val_loss: 1.7716 - val_accuracy: 0.2470\n",
      "Epoch 12/15\n",
      "1934/1934 [==============================] - 0s 151us/step - loss: 1.7441 - accuracy: 0.2601 - val_loss: 1.7882 - val_accuracy: 0.2470\n",
      "Epoch 13/15\n",
      "1934/1934 [==============================] - 0s 150us/step - loss: 1.7483 - accuracy: 0.2601 - val_loss: 1.7635 - val_accuracy: 0.2470\n",
      "Epoch 14/15\n",
      "1934/1934 [==============================] - 0s 171us/step - loss: 1.7450 - accuracy: 0.2601 - val_loss: 1.7703 - val_accuracy: 0.2470\n",
      "Epoch 15/15\n",
      "1934/1934 [==============================] - 0s 153us/step - loss: 1.7447 - accuracy: 0.2601 - val_loss: 1.7739 - val_accuracy: 0.2470\n"
     ]
    }
   ],
   "source": [
    "model1 = Sequential()\n",
    "model1.add(SimpleRNN(\n",
    "    num_neurons, \n",
    "    return_sequences=True,\n",
    "    input_shape=(max_len, embedding_dims))\n",
    "     )\n",
    "model1.add(Dropout(.2))\n",
    "model1.add(Flatten())\n",
    "model1.add(Dense(6, activation='sigmoid'))\n",
    "model1.compile('rmsprop', \n",
    "              'categorical_crossentropy', \n",
    "              metrics=['accuracy'])\n",
    "model1.summary()\n",
    "history1 = model1.fit(x_train, \n",
    "    y_train,\n",
    "    batch_size=batch_size,\n",
    "    epochs=epochs,\n",
    "    validation_data=(x_test, y_test)\n",
    "     )\n",
    "# Flatten??? back to the slides"
   ]
  },
  {
   "cell_type": "code",
   "execution_count": 67,
   "metadata": {},
   "outputs": [
    {
     "name": "stdout",
     "output_type": "stream",
     "text": [
      "Test loss: 1.773940162620081 / Test accuracy: 0.24696356058120728\n",
      "dict_keys(['val_loss', 'val_accuracy', 'loss', 'accuracy'])\n"
     ]
    },
    {
     "data": {
      "image/png": "[encoded data removed]",
      "text/plain": [
       "<Figure size 432x288 with 1 Axes>"
      ]
     },
     "metadata": {
      "needs_background": "light"
     },
     "output_type": "display_data"
    },
    {
     "data": {
      "image/png": "[encoded data removed]",
      "text/plain": [
       "<Figure size 432x288 with 1 Axes>"
      ]
     },
     "metadata": {
      "needs_background": "light"
     },
     "output_type": "display_data"
    }
   ],
   "source": [
    "\n",
    "score1 = model1.evaluate(x_test, y_test, verbose=0)\n",
    "\n",
    "print(f'Test loss: {score1[0]} / Test accuracy: {score1[1]}')\n",
    "\n",
    "print(history1.history.keys())\n",
    "\n",
    "# summarize history for accuracy\n",
    "plt.plot(history1.history['accuracy'])\n",
    "plt.plot(history1.history['val_accuracy'])\n",
    "plt.title('model accuracy')\n",
    "plt.ylabel('accuracy')\n",
    "plt.xlabel('epoch')\n",
    "plt.legend(['train', 'test'], loc='upper left')\n",
    "plt.show()\n",
    "\n",
    "# summarize history for loss\n",
    "plt.plot(history1.history['loss'])\n",
    "plt.plot(history1.history['val_loss'])\n",
    "plt.title('model loss')\n",
    "plt.ylabel('loss')\n",
    "plt.xlabel('epoch')\n",
    "plt.legend(['train', 'test'], loc='upper left')\n",
    "plt.show()"
   ]
  }
 ],
 "metadata": {
  "kernelspec": {
   "display_name": "Python 3",
   "language": "python",
   "name": "python3"
  },
  "language_info": {
   "codemirror_mode": {
    "name": "ipython",
    "version": 3
   },
   "file_extension": ".py",
   "mimetype": "text/x-python",
   "name": "python",
   "nbconvert_exporter": "python",
   "pygments_lexer": "ipython3",
   "version": "3.7.6"
  }
 },
 "nbformat": 4,
 "nbformat_minor": 4
}
